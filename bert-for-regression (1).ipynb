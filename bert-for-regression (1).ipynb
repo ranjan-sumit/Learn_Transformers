{
 "cells": [
  {
   "cell_type": "code",
   "execution_count": 1,
   "metadata": {
    "_cell_guid": "b1076dfc-b9ad-4769-8c92-a6c4dae69d19",
    "_uuid": "8f2839f25d086af736a60e9eeb907d3b93b6e0e5",
    "execution": {
     "iopub.execute_input": "2021-06-20T05:50:23.091646Z",
     "iopub.status.busy": "2021-06-20T05:50:23.091091Z",
     "iopub.status.idle": "2021-06-20T05:50:23.105150Z",
     "shell.execute_reply": "2021-06-20T05:50:23.104206Z",
     "shell.execute_reply.started": "2021-06-20T05:50:23.091534Z"
    }
   },
   "outputs": [
    {
     "name": "stderr",
     "output_type": "stream",
     "text": [
      "C:\\Users\\Vinitha\\anaconda3\\lib\\site-packages\\numpy\\_distributor_init.py:30: UserWarning: loaded more than 1 DLL from .libs:\n",
      "C:\\Users\\Vinitha\\anaconda3\\lib\\site-packages\\numpy\\.libs\\libopenblas.NOIJJG62EMASZI6NYURL6JBKM4EVBGM7.gfortran-win_amd64.dll\n",
      "C:\\Users\\Vinitha\\anaconda3\\lib\\site-packages\\numpy\\.libs\\libopenblas.PYQHXLVVQ7VESDPUVUADXEVJOBGHJPAY.gfortran-win_amd64.dll\n",
      "  warnings.warn(\"loaded more than 1 DLL from .libs:\\n%s\" %\n"
     ]
    }
   ],
   "source": [
    "# This Python 3 environment comes with many helpful analytics libraries installed\n",
    "# It is defined by the kaggle/python Docker image: https://github.com/kaggle/docker-python\n",
    "# For example, here's several helpful packages to load\n",
    "\n",
    "import numpy as np # linear algebra\n",
    "import pandas as pd # data processing, CSV file I/O (e.g. pd.read_csv)\n",
    "\n",
    "# Input data files are available in the read-only \"../input/\" directory\n",
    "# For example, running this (by clicking run or pressing Shift+Enter) will list all files under the input directory\n",
    "\n",
    "import os\n",
    "# for dirname, _, filenames in os.walk('/kaggle/input'):\n",
    "#     for filename in filenames:\n",
    "#         print(os.path.join(dirname, filename))\n",
    "\n",
    "# You can write up to 20GB to the current directory (/kaggle/working/) that gets preserved as output when you create a version using \"Save & Run All\" \n",
    "# You can also write temporary files to /kaggle/temp/, but they won't be saved outside of the current session"
   ]
  },
  {
   "cell_type": "code",
   "execution_count": 2,
   "metadata": {
    "execution": {
     "iopub.execute_input": "2021-06-20T05:50:23.107104Z",
     "iopub.status.busy": "2021-06-20T05:50:23.106654Z",
     "iopub.status.idle": "2021-06-20T05:50:25.638866Z",
     "shell.execute_reply": "2021-06-20T05:50:25.637945Z",
     "shell.execute_reply.started": "2021-06-20T05:50:23.107069Z"
    }
   },
   "outputs": [],
   "source": [
    "import torch\n",
    "import torch.nn as nn\n",
    "import torch.optim as optim\n",
    "import torch.nn.functional as F\n",
    "from torch.utils.data import Dataset, DataLoader\n",
    "\n",
    "from transformers import BertPreTrainedModel, BertModel\n",
    "from transformers import AutoConfig, AutoTokenizer\n",
    "\n",
    "from sklearn import metrics\n",
    "from sklearn.model_selection import train_test_split\n",
    "from tqdm import tqdm, trange"
   ]
  },
  {
   "cell_type": "code",
   "execution_count": 3,
   "metadata": {
    "execution": {
     "iopub.execute_input": "2021-06-20T05:50:25.640791Z",
     "iopub.status.busy": "2021-06-20T05:50:25.640456Z",
     "iopub.status.idle": "2021-06-20T05:50:25.700817Z",
     "shell.execute_reply": "2021-06-20T05:50:25.700066Z",
     "shell.execute_reply.started": "2021-06-20T05:50:25.640765Z"
    }
   },
   "outputs": [],
   "source": [
    "import matplotlib.pyplot as plt\n",
    "import seaborn as sns"
   ]
  },
  {
   "cell_type": "code",
   "execution_count": 4,
   "metadata": {
    "execution": {
     "iopub.execute_input": "2021-06-20T05:50:25.702626Z",
     "iopub.status.busy": "2021-06-20T05:50:25.702285Z",
     "iopub.status.idle": "2021-06-20T05:50:25.706861Z",
     "shell.execute_reply": "2021-06-20T05:50:25.705573Z",
     "shell.execute_reply.started": "2021-06-20T05:50:25.702591Z"
    }
   },
   "outputs": [],
   "source": [
    "# plt.style.use('dark_background')"
   ]
  },
  {
   "cell_type": "markdown",
   "metadata": {},
   "source": [
    "## Load Data"
   ]
  },
  {
   "cell_type": "code",
   "execution_count": 23,
   "metadata": {
    "execution": {
     "iopub.execute_input": "2021-06-20T05:50:25.708845Z",
     "iopub.status.busy": "2021-06-20T05:50:25.708462Z",
     "iopub.status.idle": "2021-06-20T05:50:25.817864Z",
     "shell.execute_reply": "2021-06-20T05:50:25.817036Z",
     "shell.execute_reply.started": "2021-06-20T05:50:25.708810Z"
    }
   },
   "outputs": [],
   "source": [
    "dftrain = pd.read_csv('sample_train.csv')\n",
    "# dftest = pd.read_csv('')\n",
    "# sample_submission = pd.read_csv('')"
   ]
  },
  {
   "cell_type": "code",
   "execution_count": 24,
   "metadata": {
    "execution": {
     "iopub.execute_input": "2021-06-20T05:50:25.819465Z",
     "iopub.status.busy": "2021-06-20T05:50:25.819130Z",
     "iopub.status.idle": "2021-06-20T05:50:25.833507Z",
     "shell.execute_reply": "2021-06-20T05:50:25.832334Z",
     "shell.execute_reply.started": "2021-06-20T05:50:25.819429Z"
    }
   },
   "outputs": [],
   "source": [
    "train_data, validation = train_test_split(dftrain, test_size=0.25, random_state=21)"
   ]
  },
  {
   "cell_type": "markdown",
   "metadata": {},
   "source": [
    "## EDA"
   ]
  },
  {
   "cell_type": "code",
   "execution_count": 25,
   "metadata": {
    "execution": {
     "iopub.execute_input": "2021-06-20T05:50:25.836455Z",
     "iopub.status.busy": "2021-06-20T05:50:25.836142Z",
     "iopub.status.idle": "2021-06-20T05:50:25.851590Z",
     "shell.execute_reply": "2021-06-20T05:50:25.850358Z",
     "shell.execute_reply.started": "2021-06-20T05:50:25.836423Z"
    }
   },
   "outputs": [
    {
     "data": {
      "text/html": [
       "<div>\n",
       "<style scoped>\n",
       "    .dataframe tbody tr th:only-of-type {\n",
       "        vertical-align: middle;\n",
       "    }\n",
       "\n",
       "    .dataframe tbody tr th {\n",
       "        vertical-align: top;\n",
       "    }\n",
       "\n",
       "    .dataframe thead th {\n",
       "        text-align: right;\n",
       "    }\n",
       "</style>\n",
       "<table border=\"1\" class=\"dataframe\">\n",
       "  <thead>\n",
       "    <tr style=\"text-align: right;\">\n",
       "      <th></th>\n",
       "      <th>id</th>\n",
       "      <th>url_legal</th>\n",
       "      <th>license</th>\n",
       "      <th>excerpt</th>\n",
       "      <th>target</th>\n",
       "      <th>standard_error</th>\n",
       "    </tr>\n",
       "  </thead>\n",
       "  <tbody>\n",
       "    <tr>\n",
       "      <th>1091</th>\n",
       "      <td>d14e63848</td>\n",
       "      <td>https://www.commonlit.org/texts/the-price-of-g...</td>\n",
       "      <td>CC BY-NC-SA 3.0</td>\n",
       "      <td>Following the First Punic War, Rome set about ...</td>\n",
       "      <td>-1.692133</td>\n",
       "      <td>0.494061</td>\n",
       "    </tr>\n",
       "    <tr>\n",
       "      <th>832</th>\n",
       "      <td>b07592b93</td>\n",
       "      <td>https://www.africanstorybook.org/</td>\n",
       "      <td>CC BY 4.0</td>\n",
       "      <td>During a drought, Yihdego left home to find a ...</td>\n",
       "      <td>-0.743274</td>\n",
       "      <td>0.477942</td>\n",
       "    </tr>\n",
       "    <tr>\n",
       "      <th>807</th>\n",
       "      <td>b3f2457aa</td>\n",
       "      <td>https://simple.wikipedia.org/wiki/Nerve</td>\n",
       "      <td>CC BY-SA 3.0 and GFDL</td>\n",
       "      <td>A nerve is a group of special nerve cells grou...</td>\n",
       "      <td>-1.569126</td>\n",
       "      <td>0.468663</td>\n",
       "    </tr>\n",
       "    <tr>\n",
       "      <th>2223</th>\n",
       "      <td>01255dd3d</td>\n",
       "      <td>NaN</td>\n",
       "      <td>NaN</td>\n",
       "      <td>Richard Wagner's day of birth was May 22, 1813...</td>\n",
       "      <td>-0.571787</td>\n",
       "      <td>0.434979</td>\n",
       "    </tr>\n",
       "    <tr>\n",
       "      <th>605</th>\n",
       "      <td>31aba067d</td>\n",
       "      <td>https://simple.wikipedia.org/wiki/United_Nations</td>\n",
       "      <td>CC BY-SA 3.0 and GFDL</td>\n",
       "      <td>After World War I, the nations of the world fo...</td>\n",
       "      <td>-0.124659</td>\n",
       "      <td>0.471840</td>\n",
       "    </tr>\n",
       "  </tbody>\n",
       "</table>\n",
       "</div>"
      ],
      "text/plain": [
       "             id                                          url_legal  \\\n",
       "1091  d14e63848  https://www.commonlit.org/texts/the-price-of-g...   \n",
       "832   b07592b93                  https://www.africanstorybook.org/   \n",
       "807   b3f2457aa            https://simple.wikipedia.org/wiki/Nerve   \n",
       "2223  01255dd3d                                                NaN   \n",
       "605   31aba067d   https://simple.wikipedia.org/wiki/United_Nations   \n",
       "\n",
       "                    license  \\\n",
       "1091        CC BY-NC-SA 3.0   \n",
       "832               CC BY 4.0   \n",
       "807   CC BY-SA 3.0 and GFDL   \n",
       "2223                    NaN   \n",
       "605   CC BY-SA 3.0 and GFDL   \n",
       "\n",
       "                                                excerpt    target  \\\n",
       "1091  Following the First Punic War, Rome set about ... -1.692133   \n",
       "832   During a drought, Yihdego left home to find a ... -0.743274   \n",
       "807   A nerve is a group of special nerve cells grou... -1.569126   \n",
       "2223  Richard Wagner's day of birth was May 22, 1813... -0.571787   \n",
       "605   After World War I, the nations of the world fo... -0.124659   \n",
       "\n",
       "      standard_error  \n",
       "1091        0.494061  \n",
       "832         0.477942  \n",
       "807         0.468663  \n",
       "2223        0.434979  \n",
       "605         0.471840  "
      ]
     },
     "execution_count": 25,
     "metadata": {},
     "output_type": "execute_result"
    }
   ],
   "source": [
    "train_data.head()"
   ]
  },
  {
   "cell_type": "code",
   "execution_count": 26,
   "metadata": {
    "execution": {
     "iopub.execute_input": "2021-06-20T05:50:25.854313Z",
     "iopub.status.busy": "2021-06-20T05:50:25.853710Z",
     "iopub.status.idle": "2021-06-20T05:50:25.862219Z",
     "shell.execute_reply": "2021-06-20T05:50:25.861309Z",
     "shell.execute_reply.started": "2021-06-20T05:50:25.854272Z"
    }
   },
   "outputs": [
    {
     "data": {
      "text/plain": [
       "(2834, 6)"
      ]
     },
     "execution_count": 26,
     "metadata": {},
     "output_type": "execute_result"
    }
   ],
   "source": [
    "dftrain.shape"
   ]
  },
  {
   "cell_type": "code",
   "execution_count": 27,
   "metadata": {
    "execution": {
     "iopub.execute_input": "2021-06-20T05:50:25.864055Z",
     "iopub.status.busy": "2021-06-20T05:50:25.863623Z",
     "iopub.status.idle": "2021-06-20T05:50:25.880336Z",
     "shell.execute_reply": "2021-06-20T05:50:25.879540Z",
     "shell.execute_reply.started": "2021-06-20T05:50:25.864014Z"
    }
   },
   "outputs": [
    {
     "data": {
      "text/html": [
       "<div>\n",
       "<style scoped>\n",
       "    .dataframe tbody tr th:only-of-type {\n",
       "        vertical-align: middle;\n",
       "    }\n",
       "\n",
       "    .dataframe tbody tr th {\n",
       "        vertical-align: top;\n",
       "    }\n",
       "\n",
       "    .dataframe thead th {\n",
       "        text-align: right;\n",
       "    }\n",
       "</style>\n",
       "<table border=\"1\" class=\"dataframe\">\n",
       "  <thead>\n",
       "    <tr style=\"text-align: right;\">\n",
       "      <th></th>\n",
       "      <th>id</th>\n",
       "      <th>url_legal</th>\n",
       "      <th>license</th>\n",
       "      <th>excerpt</th>\n",
       "      <th>target</th>\n",
       "      <th>standard_error</th>\n",
       "    </tr>\n",
       "  </thead>\n",
       "  <tbody>\n",
       "    <tr>\n",
       "      <th>0</th>\n",
       "      <td>c12129c31</td>\n",
       "      <td>NaN</td>\n",
       "      <td>NaN</td>\n",
       "      <td>When the young people returned to the ballroom...</td>\n",
       "      <td>-0.340259</td>\n",
       "      <td>0.464009</td>\n",
       "    </tr>\n",
       "    <tr>\n",
       "      <th>1</th>\n",
       "      <td>85aa80a4c</td>\n",
       "      <td>NaN</td>\n",
       "      <td>NaN</td>\n",
       "      <td>All through dinner time, Mrs. Fayre was somewh...</td>\n",
       "      <td>-0.315372</td>\n",
       "      <td>0.480805</td>\n",
       "    </tr>\n",
       "    <tr>\n",
       "      <th>2</th>\n",
       "      <td>b69ac6792</td>\n",
       "      <td>NaN</td>\n",
       "      <td>NaN</td>\n",
       "      <td>As Roger had predicted, the snow departed as q...</td>\n",
       "      <td>-0.580118</td>\n",
       "      <td>0.476676</td>\n",
       "    </tr>\n",
       "    <tr>\n",
       "      <th>3</th>\n",
       "      <td>dd1000b26</td>\n",
       "      <td>NaN</td>\n",
       "      <td>NaN</td>\n",
       "      <td>And outside before the palace a great garden w...</td>\n",
       "      <td>-1.054013</td>\n",
       "      <td>0.450007</td>\n",
       "    </tr>\n",
       "    <tr>\n",
       "      <th>4</th>\n",
       "      <td>37c1b32fb</td>\n",
       "      <td>NaN</td>\n",
       "      <td>NaN</td>\n",
       "      <td>Once upon a time there were Three Bears who li...</td>\n",
       "      <td>0.247197</td>\n",
       "      <td>0.510845</td>\n",
       "    </tr>\n",
       "  </tbody>\n",
       "</table>\n",
       "</div>"
      ],
      "text/plain": [
       "          id url_legal license  \\\n",
       "0  c12129c31       NaN     NaN   \n",
       "1  85aa80a4c       NaN     NaN   \n",
       "2  b69ac6792       NaN     NaN   \n",
       "3  dd1000b26       NaN     NaN   \n",
       "4  37c1b32fb       NaN     NaN   \n",
       "\n",
       "                                             excerpt    target  standard_error  \n",
       "0  When the young people returned to the ballroom... -0.340259        0.464009  \n",
       "1  All through dinner time, Mrs. Fayre was somewh... -0.315372        0.480805  \n",
       "2  As Roger had predicted, the snow departed as q... -0.580118        0.476676  \n",
       "3  And outside before the palace a great garden w... -1.054013        0.450007  \n",
       "4  Once upon a time there were Three Bears who li...  0.247197        0.510845  "
      ]
     },
     "execution_count": 27,
     "metadata": {},
     "output_type": "execute_result"
    }
   ],
   "source": [
    "dftrain.head()"
   ]
  },
  {
   "cell_type": "code",
   "execution_count": 28,
   "metadata": {
    "execution": {
     "iopub.execute_input": "2021-06-20T05:50:25.882147Z",
     "iopub.status.busy": "2021-06-20T05:50:25.881757Z",
     "iopub.status.idle": "2021-06-20T05:50:25.917300Z",
     "shell.execute_reply": "2021-06-20T05:50:25.916558Z",
     "shell.execute_reply.started": "2021-06-20T05:50:25.882111Z"
    }
   },
   "outputs": [],
   "source": [
    "word_count = dftrain['excerpt'].apply(lambda x: len(x.split()))"
   ]
  },
  {
   "cell_type": "code",
   "execution_count": 29,
   "metadata": {
    "execution": {
     "iopub.execute_input": "2021-06-20T05:50:25.918811Z",
     "iopub.status.busy": "2021-06-20T05:50:25.918432Z",
     "iopub.status.idle": "2021-06-20T05:50:26.185964Z",
     "shell.execute_reply": "2021-06-20T05:50:26.185187Z",
     "shell.execute_reply.started": "2021-06-20T05:50:25.918777Z"
    }
   },
   "outputs": [
    {
     "name": "stderr",
     "output_type": "stream",
     "text": [
      "C:\\Users\\Vinitha\\anaconda3\\lib\\site-packages\\seaborn\\distributions.py:2551: FutureWarning: `distplot` is a deprecated function and will be removed in a future version. Please adapt your code to use either `displot` (a figure-level function with similar flexibility) or `histplot` (an axes-level function for histograms).\n",
      "  warnings.warn(msg, FutureWarning)\n"
     ]
    },
    {
     "data": {
      "image/png": "[encoded data removed]",
      "text/plain": [
       "<Figure size 1000x700 with 1 Axes>"
      ]
     },
     "metadata": {},
     "output_type": "display_data"
    }
   ],
   "source": [
    "fig = plt.figure(figsize=[10,7])\n",
    "sns.distplot(word_count, color=sns.xkcd_rgb['greenish teal'])\n",
    "plt.show()"
   ]
  },
  {
   "cell_type": "code",
   "execution_count": 30,
   "metadata": {
    "execution": {
     "iopub.execute_input": "2021-06-20T05:50:26.187558Z",
     "iopub.status.busy": "2021-06-20T05:50:26.187202Z",
     "iopub.status.idle": "2021-06-20T05:50:26.192983Z",
     "shell.execute_reply": "2021-06-20T05:50:26.191837Z",
     "shell.execute_reply.started": "2021-06-20T05:50:26.187520Z"
    }
   },
   "outputs": [
    {
     "ename": "NameError",
     "evalue": "name 'dftest' is not defined",
     "output_type": "error",
     "traceback": [
      "\u001b[1;31m---------------------------------------------------------------------------\u001b[0m",
      "\u001b[1;31mNameError\u001b[0m                                 Traceback (most recent call last)",
      "\u001b[1;32m<ipython-input-30-cfcc828fc4ce>\u001b[0m in \u001b[0;36m<module>\u001b[1;34m\u001b[0m\n\u001b[1;32m----> 1\u001b[1;33m \u001b[0mwc_test\u001b[0m \u001b[1;33m=\u001b[0m \u001b[0mdftest\u001b[0m\u001b[1;33m[\u001b[0m\u001b[1;34m'excerpt'\u001b[0m\u001b[1;33m]\u001b[0m\u001b[1;33m.\u001b[0m\u001b[0mapply\u001b[0m\u001b[1;33m(\u001b[0m\u001b[1;32mlambda\u001b[0m \u001b[0mx\u001b[0m\u001b[1;33m:\u001b[0m \u001b[0mlen\u001b[0m\u001b[1;33m(\u001b[0m\u001b[0mx\u001b[0m\u001b[1;33m.\u001b[0m\u001b[0msplit\u001b[0m\u001b[1;33m(\u001b[0m\u001b[1;33m)\u001b[0m\u001b[1;33m)\u001b[0m\u001b[1;33m)\u001b[0m\u001b[1;33m\u001b[0m\u001b[1;33m\u001b[0m\u001b[0m\n\u001b[0m",
      "\u001b[1;31mNameError\u001b[0m: name 'dftest' is not defined"
     ]
    }
   ],
   "source": [
    "wc_test = dftest['excerpt'].apply(lambda x: len(x.split()))"
   ]
  },
  {
   "cell_type": "code",
   "execution_count": 31,
   "metadata": {
    "execution": {
     "iopub.execute_input": "2021-06-20T05:50:26.194939Z",
     "iopub.status.busy": "2021-06-20T05:50:26.194547Z",
     "iopub.status.idle": "2021-06-20T05:50:26.209633Z",
     "shell.execute_reply": "2021-06-20T05:50:26.208742Z",
     "shell.execute_reply.started": "2021-06-20T05:50:26.194902Z"
    }
   },
   "outputs": [
    {
     "ename": "NameError",
     "evalue": "name 'wc_test' is not defined",
     "output_type": "error",
     "traceback": [
      "\u001b[1;31m---------------------------------------------------------------------------\u001b[0m",
      "\u001b[1;31mNameError\u001b[0m                                 Traceback (most recent call last)",
      "\u001b[1;32m<ipython-input-31-904819b94d82>\u001b[0m in \u001b[0;36m<module>\u001b[1;34m\u001b[0m\n\u001b[1;32m----> 1\u001b[1;33m \u001b[0mwc_test\u001b[0m\u001b[1;33m\u001b[0m\u001b[1;33m\u001b[0m\u001b[0m\n\u001b[0m",
      "\u001b[1;31mNameError\u001b[0m: name 'wc_test' is not defined"
     ]
    }
   ],
   "source": [
    "wc_test"
   ]
  },
  {
   "cell_type": "code",
   "execution_count": 14,
   "metadata": {
    "execution": {
     "iopub.execute_input": "2021-06-20T05:50:26.211393Z",
     "iopub.status.busy": "2021-06-20T05:50:26.211023Z",
     "iopub.status.idle": "2021-06-20T05:50:26.220105Z",
     "shell.execute_reply": "2021-06-20T05:50:26.219186Z",
     "shell.execute_reply.started": "2021-06-20T05:50:26.211357Z"
    }
   },
   "outputs": [
    {
     "data": {
      "text/plain": [
       "205"
      ]
     },
     "execution_count": 14,
     "metadata": {},
     "output_type": "execute_result"
    }
   ],
   "source": [
    "word_count.max()"
   ]
  },
  {
   "cell_type": "markdown",
   "metadata": {},
   "source": [
    "## Config"
   ]
  },
  {
   "cell_type": "code",
   "execution_count": 32,
   "metadata": {
    "execution": {
     "iopub.execute_input": "2021-06-20T05:50:26.221794Z",
     "iopub.status.busy": "2021-06-20T05:50:26.221326Z",
     "iopub.status.idle": "2021-06-20T05:50:26.230110Z",
     "shell.execute_reply": "2021-06-20T05:50:26.228992Z",
     "shell.execute_reply.started": "2021-06-20T05:50:26.221759Z"
    }
   },
   "outputs": [],
   "source": [
    "MODEL_OUT_DIR = '.\\\\'\n",
    "## Model Configurations\n",
    "MAX_LEN_TRAIN = 205\n",
    "MAX_LEN_VALID = 205\n",
    "MAX_LEN_TEST = 205\n",
    "BATCH_SIZE = 64\n",
    "LR = 1e-3\n",
    "NUM_EPOCHS = 10\n",
    "NUM_THREADS = 1  ## Number of threads for collecting dataset\n",
    "MODEL_NAME = 'microsoft/BiomedNLP-PubMedBERT-base-uncased-abstract-fulltext'\n",
    "\n",
    "# if not os.path.isdir(MODEL_OUT_DIR):\n",
    "#     os.makedirs(MODEL_OUT_DIR)"
   ]
  },
  {
   "cell_type": "markdown",
   "metadata": {},
   "source": [
    "## Scripts"
   ]
  },
  {
   "cell_type": "code",
   "execution_count": 33,
   "metadata": {
    "execution": {
     "iopub.execute_input": "2021-06-20T05:50:26.232010Z",
     "iopub.status.busy": "2021-06-20T05:50:26.231400Z",
     "iopub.status.idle": "2021-06-20T05:50:26.242301Z",
     "shell.execute_reply": "2021-06-20T05:50:26.241547Z",
     "shell.execute_reply.started": "2021-06-20T05:50:26.231972Z"
    }
   },
   "outputs": [],
   "source": [
    "class Excerpt_Dataset(Dataset):\n",
    "\n",
    "    def __init__(self, data, maxlen, tokenizer): \n",
    "        #Store the contents of the file in a pandas dataframe\n",
    "        self.df = data.reset_index()\n",
    "        #Initialize the tokenizer for the desired transformer model\n",
    "        self.tokenizer = tokenizer\n",
    "        #Maximum length of the tokens list to keep all the sequences of fixed size\n",
    "        self.maxlen = maxlen\n",
    "\n",
    "    def __len__(self):\n",
    "        return self.df.shape[0]\n",
    "\n",
    "    def __getitem__(self, index):    \n",
    "        #Select the sentence and label at the specified index in the data frame\n",
    "        excerpt = self.df.loc[index, 'excerpt']\n",
    "        try:\n",
    "            target = self.df.loc[index, 'target']\n",
    "        except:\n",
    "            target = 0.0\n",
    "        identifier = self.df.loc[index, 'id']\n",
    "        #Preprocess the text to be suitable for the transformer\n",
    "        tokens = self.tokenizer.tokenize(excerpt) \n",
    "        tokens = ['[CLS]'] + tokens + ['[SEP]'] \n",
    "        if len(tokens) < self.maxlen:\n",
    "            tokens = tokens + ['[PAD]' for _ in range(self.maxlen - len(tokens))] \n",
    "        else:\n",
    "            tokens = tokens[:self.maxlen-1] + ['[SEP]'] \n",
    "        #Obtain the indices of the tokens in the BERT Vocabulary\n",
    "        input_ids = self.tokenizer.convert_tokens_to_ids(tokens) \n",
    "        input_ids = torch.tensor(input_ids) \n",
    "        #Obtain the attention mask i.e a tensor containing 1s for no padded tokens and 0s for padded ones\n",
    "        attention_mask = (input_ids != 0).long()\n",
    "        \n",
    "        target = torch.tensor(target, dtype=torch.float32)\n",
    "        \n",
    "        return input_ids, attention_mask, target"
   ]
  },
  {
   "cell_type": "code",
   "execution_count": 34,
   "metadata": {
    "execution": {
     "iopub.execute_input": "2021-06-20T05:50:26.244218Z",
     "iopub.status.busy": "2021-06-20T05:50:26.243716Z",
     "iopub.status.idle": "2021-06-20T05:50:26.254223Z",
     "shell.execute_reply": "2021-06-20T05:50:26.253508Z",
     "shell.execute_reply.started": "2021-06-20T05:50:26.244182Z"
    }
   },
   "outputs": [],
   "source": [
    "class BertRegresser(BertPreTrainedModel):\n",
    "    def __init__(self, config):\n",
    "        super().__init__(config)\n",
    "        self.bert = BertModel(config)\n",
    "        #The output layer that takes the [CLS] representation and gives an output\n",
    "        self.cls_layer1 = nn.Linear(config.hidden_size,128)\n",
    "        self.relu1 = nn.ReLU()\n",
    "        self.ff1 = nn.Linear(128,128)\n",
    "        self.tanh1 = nn.Tanh()\n",
    "        self.ff2 = nn.Linear(128,1)\n",
    "\n",
    "    def forward(self, input_ids, attention_mask):\n",
    "        #Feed the input to Bert model to obtain contextualized representations\n",
    "        outputs = self.bert(input_ids=input_ids, attention_mask=attention_mask)\n",
    "        #Obtain the representations of [CLS] heads\n",
    "        logits = outputs.last_hidden_state[:,0,:]\n",
    "        output = self.cls_layer1(logits)\n",
    "        output = self.relu1(output)\n",
    "        output = self.ff1(output)\n",
    "        output = self.tanh1(output)\n",
    "        output = self.ff2(output)\n",
    "        return output"
   ]
  },
  {
   "cell_type": "markdown",
   "metadata": {},
   "source": [
    "## Train function"
   ]
  },
  {
   "cell_type": "code",
   "execution_count": 35,
   "metadata": {
    "execution": {
     "iopub.execute_input": "2021-06-20T05:50:26.255745Z",
     "iopub.status.busy": "2021-06-20T05:50:26.255392Z",
     "iopub.status.idle": "2021-06-20T05:50:26.267272Z",
     "shell.execute_reply": "2021-06-20T05:50:26.266464Z",
     "shell.execute_reply.started": "2021-06-20T05:50:26.255712Z"
    }
   },
   "outputs": [],
   "source": [
    "def train(model, criterion, optimizer, train_loader, val_loader, epochs, device):\n",
    "    best_acc = 0\n",
    "    for epoch in trange(epochs, desc=\"Epoch\"):\n",
    "        model.train()\n",
    "        train_loss = 0\n",
    "        for i, (input_ids, attention_mask, target) in enumerate(iterable=train_loader):\n",
    "            optimizer.zero_grad()  \n",
    "            \n",
    "            input_ids, attention_mask, target = input_ids.to(device), attention_mask.to(device), target.to(device)\n",
    "            \n",
    "            output = model(input_ids=input_ids, attention_mask=attention_mask)\n",
    "            \n",
    "            loss = criterion(output, target.type_as(output))\n",
    "            loss.backward()\n",
    "            optimizer.step()\n",
    "            \n",
    "            train_loss += loss.item()\n",
    "        \n",
    "        print(f\"Training loss is {train_loss/len(train_loader)}\")\n",
    "        val_loss = evaluate(model=model, criterion=criterion, dataloader=val_loader, device=device)\n",
    "        print(\"Epoch {} complete! Validation Loss : {}\".format(epoch, val_loss))"
   ]
  },
  {
   "cell_type": "markdown",
   "metadata": {},
   "source": [
    "## Evaluation function"
   ]
  },
  {
   "cell_type": "code",
   "execution_count": 36,
   "metadata": {
    "execution": {
     "iopub.execute_input": "2021-06-20T05:50:26.270917Z",
     "iopub.status.busy": "2021-06-20T05:50:26.270442Z",
     "iopub.status.idle": "2021-06-20T05:50:26.277920Z",
     "shell.execute_reply": "2021-06-20T05:50:26.276849Z",
     "shell.execute_reply.started": "2021-06-20T05:50:26.270881Z"
    }
   },
   "outputs": [],
   "source": [
    "def evaluate(model, criterion, dataloader, device):\n",
    "    model.eval()\n",
    "    mean_acc, mean_loss, count = 0, 0, 0\n",
    "\n",
    "    with torch.no_grad():\n",
    "        for input_ids, attention_mask, target in (dataloader):\n",
    "            \n",
    "            input_ids, attention_mask, target = input_ids.to(device), attention_mask.to(device), target.to(device)\n",
    "            output = model(input_ids, attention_mask)\n",
    "            \n",
    "            mean_loss += criterion(output, target.type_as(output)).item()\n",
    "#             mean_err += get_rmse(output, target)\n",
    "            count += 1\n",
    "            \n",
    "    return mean_loss/count"
   ]
  },
  {
   "cell_type": "code",
   "execution_count": 37,
   "metadata": {
    "execution": {
     "iopub.execute_input": "2021-06-20T05:50:26.280220Z",
     "iopub.status.busy": "2021-06-20T05:50:26.279827Z",
     "iopub.status.idle": "2021-06-20T05:50:26.289679Z",
     "shell.execute_reply": "2021-06-20T05:50:26.288937Z",
     "shell.execute_reply.started": "2021-06-20T05:50:26.280184Z"
    }
   },
   "outputs": [],
   "source": [
    "def get_rmse(output, target):\n",
    "    err = torch.sqrt(metrics.mean_squared_error(target, output))\n",
    "    return err"
   ]
  },
  {
   "cell_type": "markdown",
   "metadata": {},
   "source": [
    "## Predict function"
   ]
  },
  {
   "cell_type": "code",
   "execution_count": 38,
   "metadata": {
    "execution": {
     "iopub.execute_input": "2021-06-20T05:50:26.291287Z",
     "iopub.status.busy": "2021-06-20T05:50:26.290809Z",
     "iopub.status.idle": "2021-06-20T05:50:26.299288Z",
     "shell.execute_reply": "2021-06-20T05:50:26.298439Z",
     "shell.execute_reply.started": "2021-06-20T05:50:26.291251Z"
    }
   },
   "outputs": [],
   "source": [
    "def predict(model, dataloader, device):\n",
    "    predicted_label = []\n",
    "    actual_label = []\n",
    "    with torch.no_grad():\n",
    "        for input_ids, attention_mask, target in (dataloader):\n",
    "            \n",
    "            input_ids, attention_mask, target = input_ids.to(device), attention_mask.to(device), target.to(device)\n",
    "            output = model(input_ids, attention_mask)\n",
    "                        \n",
    "            predicted_label += output\n",
    "            actual_label += target\n",
    "            \n",
    "    return predicted_label"
   ]
  },
  {
   "cell_type": "markdown",
   "metadata": {},
   "source": [
    "## Config"
   ]
  },
  {
   "cell_type": "code",
   "execution_count": 39,
   "metadata": {
    "execution": {
     "iopub.execute_input": "2021-06-20T05:50:26.301068Z",
     "iopub.status.busy": "2021-06-20T05:50:26.300647Z",
     "iopub.status.idle": "2021-06-20T05:50:57.607245Z",
     "shell.execute_reply": "2021-06-20T05:50:57.606341Z",
     "shell.execute_reply.started": "2021-06-20T05:50:26.301031Z"
    }
   },
   "outputs": [
    {
     "data": {
      "application/vnd.jupyter.widget-view+json": {
       "model_id": "4859719aca494772bb624e3d0d87c70b",
       "version_major": 2,
       "version_minor": 0
      },
      "text/plain": [
       "Downloading:   0%|          | 0.00/440M [00:00<?, ?B/s]"
      ]
     },
     "metadata": {},
     "output_type": "display_data"
    },
    {
     "name": "stderr",
     "output_type": "stream",
     "text": [
      "Some weights of the model checkpoint at microsoft/BiomedNLP-PubMedBERT-base-uncased-abstract-fulltext were not used when initializing BertRegresser: ['cls.predictions.bias', 'cls.seq_relationship.bias', 'cls.predictions.transform.dense.bias', 'cls.predictions.decoder.weight', 'cls.predictions.transform.LayerNorm.weight', 'cls.predictions.transform.LayerNorm.bias', 'cls.seq_relationship.weight', 'cls.predictions.decoder.bias', 'cls.predictions.transform.dense.weight']\n",
      "- This IS expected if you are initializing BertRegresser from the checkpoint of a model trained on another task or with another architecture (e.g. initializing a BertForSequenceClassification model from a BertForPreTraining model).\n",
      "- This IS NOT expected if you are initializing BertRegresser from the checkpoint of a model that you expect to be exactly identical (initializing a BertForSequenceClassification model from a BertForSequenceClassification model).\n",
      "Some weights of BertRegresser were not initialized from the model checkpoint at microsoft/BiomedNLP-PubMedBERT-base-uncased-abstract-fulltext and are newly initialized: ['ff2.weight', 'ff1.weight', 'ff1.bias', 'ff2.bias', 'cls_layer1.bias', 'cls_layer1.weight']\n",
      "You should probably TRAIN this model on a down-stream task to be able to use it for predictions and inference.\n"
     ]
    }
   ],
   "source": [
    "## Configuration loaded from AutoConfig \n",
    "config = AutoConfig.from_pretrained(MODEL_NAME)\n",
    "## Tokenizer loaded from AutoTokenizer\n",
    "tokenizer = AutoTokenizer.from_pretrained(MODEL_NAME)\n",
    "## Creating the model from the desired transformer model\n",
    "model = BertRegresser.from_pretrained(MODEL_NAME, config=config)\n",
    "## GPU or CPU\n",
    "device = torch.device(\"cuda:0\" if torch.cuda.is_available() else \"cpu\")\n",
    "## Putting model to device\n",
    "model = model.to(device)\n",
    "## Takes as the input the logits of the positive class and computes the binary cross-entropy \n",
    "# criterion = nn.BCEWithLogitsLoss()\n",
    "criterion = nn.MSELoss()\n",
    "## Optimizer\n",
    "optimizer = optim.Adam(params=model.parameters(), lr=LR)"
   ]
  },
  {
   "cell_type": "markdown",
   "metadata": {},
   "source": [
    "## Prep data"
   ]
  },
  {
   "cell_type": "code",
   "execution_count": 40,
   "metadata": {
    "execution": {
     "iopub.execute_input": "2021-06-20T05:50:57.608933Z",
     "iopub.status.busy": "2021-06-20T05:50:57.608561Z",
     "iopub.status.idle": "2021-06-20T05:50:57.619832Z",
     "shell.execute_reply": "2021-06-20T05:50:57.618958Z",
     "shell.execute_reply.started": "2021-06-20T05:50:57.608899Z"
    }
   },
   "outputs": [],
   "source": [
    "## Training Dataset\n",
    "train_set = Excerpt_Dataset(data=train_data, maxlen=MAX_LEN_TRAIN, tokenizer=tokenizer)\n",
    "valid_set = Excerpt_Dataset(data=validation, maxlen=MAX_LEN_VALID, tokenizer=tokenizer)\n",
    "# test_set = Excerpt_Dataset(data=dftest, maxlen=MAX_LEN_TEST, tokenizer=tokenizer)\n",
    "\n",
    "\n",
    "## Data Loaders\n",
    "train_loader = DataLoader(dataset=train_set, batch_size=BATCH_SIZE, num_workers=NUM_THREADS)\n",
    "valid_loader = DataLoader(dataset=valid_set, batch_size=BATCH_SIZE, num_workers=NUM_THREADS)\n",
    "# test_loader = DataLoader(dataset=test_set, batch_size=BATCH_SIZE, num_workers=NUM_THREADS)\n",
    "\n",
    "# print(len(train_loader))"
   ]
  },
  {
   "cell_type": "markdown",
   "metadata": {},
   "source": [
    "## Train"
   ]
  },
  {
   "cell_type": "code",
   "execution_count": null,
   "metadata": {
    "execution": {
     "iopub.execute_input": "2021-06-20T05:50:57.621502Z",
     "iopub.status.busy": "2021-06-20T05:50:57.621119Z",
     "iopub.status.idle": "2021-06-20T05:58:24.833152Z",
     "shell.execute_reply": "2021-06-20T05:58:24.830294Z",
     "shell.execute_reply.started": "2021-06-20T05:50:57.621451Z"
    }
   },
   "outputs": [
    {
     "name": "stderr",
     "output_type": "stream",
     "text": [
      "\n",
      "Epoch:   0%|                                                                                    | 0/10 [00:00<?, ?it/s]\u001b[A"
     ]
    }
   ],
   "source": [
    "train(model=model, \n",
    "      criterion=criterion,\n",
    "      optimizer=optimizer, \n",
    "      train_loader=train_loader,\n",
    "      val_loader=valid_loader,\n",
    "      epochs = 10,\n",
    "     device = device)"
   ]
  },
  {
   "cell_type": "markdown",
   "metadata": {},
   "source": [
    "## Prediction"
   ]
  },
  {
   "cell_type": "code",
   "execution_count": 25,
   "metadata": {
    "execution": {
     "iopub.execute_input": "2021-06-20T05:58:24.835369Z",
     "iopub.status.busy": "2021-06-20T05:58:24.834996Z",
     "iopub.status.idle": "2021-06-20T05:58:24.927749Z",
     "shell.execute_reply": "2021-06-20T05:58:24.926709Z",
     "shell.execute_reply.started": "2021-06-20T05:58:24.835328Z"
    }
   },
   "outputs": [],
   "source": [
    "output = predict(model, test_loader, device)"
   ]
  },
  {
   "cell_type": "code",
   "execution_count": 26,
   "metadata": {
    "execution": {
     "iopub.execute_input": "2021-06-20T05:58:24.931268Z",
     "iopub.status.busy": "2021-06-20T05:58:24.931000Z",
     "iopub.status.idle": "2021-06-20T05:58:24.939686Z",
     "shell.execute_reply": "2021-06-20T05:58:24.938745Z",
     "shell.execute_reply.started": "2021-06-20T05:58:24.931240Z"
    }
   },
   "outputs": [
    {
     "data": {
      "text/plain": [
       "torch.Size([1])"
      ]
     },
     "execution_count": 26,
     "metadata": {},
     "output_type": "execute_result"
    }
   ],
   "source": [
    "output[0].shape"
   ]
  },
  {
   "cell_type": "code",
   "execution_count": 27,
   "metadata": {
    "execution": {
     "iopub.execute_input": "2021-06-20T05:58:24.941313Z",
     "iopub.status.busy": "2021-06-20T05:58:24.940934Z",
     "iopub.status.idle": "2021-06-20T05:58:24.976125Z",
     "shell.execute_reply": "2021-06-20T05:58:24.975353Z",
     "shell.execute_reply.started": "2021-06-20T05:58:24.941276Z"
    }
   },
   "outputs": [
    {
     "data": {
      "text/plain": [
       "tensor([-1.0082], device='cuda:0')"
      ]
     },
     "execution_count": 27,
     "metadata": {},
     "output_type": "execute_result"
    }
   ],
   "source": [
    "output[0]"
   ]
  },
  {
   "cell_type": "code",
   "execution_count": 28,
   "metadata": {
    "execution": {
     "iopub.execute_input": "2021-06-20T05:58:24.977729Z",
     "iopub.status.busy": "2021-06-20T05:58:24.977249Z",
     "iopub.status.idle": "2021-06-20T05:58:24.982152Z",
     "shell.execute_reply": "2021-06-20T05:58:24.981216Z",
     "shell.execute_reply.started": "2021-06-20T05:58:24.977692Z"
    }
   },
   "outputs": [],
   "source": [
    "out2 = []"
   ]
  },
  {
   "cell_type": "code",
   "execution_count": 29,
   "metadata": {
    "execution": {
     "iopub.execute_input": "2021-06-20T05:58:24.984281Z",
     "iopub.status.busy": "2021-06-20T05:58:24.983856Z",
     "iopub.status.idle": "2021-06-20T05:58:24.993368Z",
     "shell.execute_reply": "2021-06-20T05:58:24.992491Z",
     "shell.execute_reply.started": "2021-06-20T05:58:24.984189Z"
    }
   },
   "outputs": [],
   "source": [
    "for out in output:\n",
    "    out2.append(out.cpu().detach().numpy())"
   ]
  },
  {
   "cell_type": "code",
   "execution_count": 30,
   "metadata": {
    "execution": {
     "iopub.execute_input": "2021-06-20T05:58:24.995131Z",
     "iopub.status.busy": "2021-06-20T05:58:24.994885Z",
     "iopub.status.idle": "2021-06-20T05:58:25.003726Z",
     "shell.execute_reply": "2021-06-20T05:58:25.002984Z",
     "shell.execute_reply.started": "2021-06-20T05:58:24.995107Z"
    }
   },
   "outputs": [],
   "source": [
    "out = np.array(out2).reshape(len(out2))"
   ]
  },
  {
   "cell_type": "code",
   "execution_count": 31,
   "metadata": {
    "execution": {
     "iopub.execute_input": "2021-06-20T05:58:25.005470Z",
     "iopub.status.busy": "2021-06-20T05:58:25.005110Z",
     "iopub.status.idle": "2021-06-20T05:58:25.015259Z",
     "shell.execute_reply": "2021-06-20T05:58:25.014492Z",
     "shell.execute_reply.started": "2021-06-20T05:58:25.005428Z"
    }
   },
   "outputs": [],
   "source": [
    "submission = pd.DataFrame({'id': dftest['id'], 'target':out})"
   ]
  },
  {
   "cell_type": "code",
   "execution_count": 32,
   "metadata": {
    "execution": {
     "iopub.execute_input": "2021-06-20T05:58:25.016965Z",
     "iopub.status.busy": "2021-06-20T05:58:25.016542Z",
     "iopub.status.idle": "2021-06-20T05:58:25.271151Z",
     "shell.execute_reply": "2021-06-20T05:58:25.270327Z",
     "shell.execute_reply.started": "2021-06-20T05:58:25.016931Z"
    }
   },
   "outputs": [],
   "source": [
    "submission.to_csv('submission.csv', index=False)"
   ]
  },
  {
   "cell_type": "code",
   "execution_count": null,
   "metadata": {},
   "outputs": [],
   "source": []
  }
 ],
 "metadata": {
  "kernelspec": {
   "display_name": "Python 3",
   "language": "python",
   "name": "python3"
  },
  "language_info": {
   "codemirror_mode": {
    "name": "ipython",
    "version": 3
   },
   "file_extension": ".py",
   "mimetype": "text/x-python",
   "name": "python",
   "nbconvert_exporter": "python",
   "pygments_lexer": "ipython3",
   "version": "3.8.5"
  }
 },
 "nbformat": 4,
 "nbformat_minor": 4
}
